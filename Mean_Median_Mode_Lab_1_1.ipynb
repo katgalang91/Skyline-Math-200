{
  "nbformat": 4,
  "nbformat_minor": 0,
  "metadata": {
    "colab": {
      "provenance": [],
      "include_colab_link": true
    },
    "kernelspec": {
      "name": "python3",
      "display_name": "Python 3"
    },
    "language_info": {
      "name": "python"
    }
  },
  "cells": [
    {
      "cell_type": "markdown",
      "metadata": {
        "id": "view-in-github",
        "colab_type": "text"
      },
      "source": [
        "<a href=\"https://colab.research.google.com/github/katgalang91/Skyline-Math-200/blob/main/Mean_Median_Mode_Lab_1_1.ipynb\" target=\"_parent\"><img src=\"https://colab.research.google.com/assets/colab-badge.svg\" alt=\"Open In Colab\"/></a>"
      ]
    },
    {
      "cell_type": "markdown",
      "source": [
        "You will learn all about how to use Python to create Summary Statistics\n",
        "\n",
        "*  mean()\n",
        "*  median()\n",
        "mode()\n",
        "groupby\n",
        "\n",
        "\n",
        "\n",
        "\n",
        "\n"
      ],
      "metadata": {
        "id": "UDbwcPI_0ofz"
      }
    },
    {
      "cell_type": "code",
      "execution_count": null,
      "metadata": {
        "id": "L-b8Pf290hkw"
      },
      "outputs": [],
      "source": [
        "import pandas as pd"
      ]
    },
    {
      "cell_type": "code",
      "source": [
        "link = 'https://raw.githubusercontent.com/kmath22/kmath22/main/Data%20Science%20Jobs%20Salaries.csv'\n",
        "\n",
        "ds_df = pd.read_csv(link)\n",
        "ds_df.head()"
      ],
      "metadata": {
        "id": "7j7h3oUX1AZx"
      },
      "execution_count": null,
      "outputs": []
    },
    {
      "cell_type": "code",
      "source": [
        "#What is the average salary of a data scientist?\n",
        "\n"
      ],
      "metadata": {
        "id": "DCg2_Goj1GkA"
      },
      "execution_count": null,
      "outputs": []
    },
    {
      "cell_type": "code",
      "source": [
        "##What is the median salary of a data scientist?\n",
        "\n"
      ],
      "metadata": {
        "id": "ruXnipn54Ebp"
      },
      "execution_count": null,
      "outputs": []
    },
    {
      "cell_type": "code",
      "source": [
        "#What is the mode?\n"
      ],
      "metadata": {
        "id": "LDxUxdpi8-LF"
      },
      "execution_count": null,
      "outputs": []
    },
    {
      "cell_type": "code",
      "source": [
        "#Use describe to find a five number summary for salary\n",
        "\n"
      ],
      "metadata": {
        "id": "ZF5bHlVG49fG"
      },
      "execution_count": null,
      "outputs": []
    },
    {
      "cell_type": "code",
      "source": [
        "#Find the average salary by company size\n"
      ],
      "metadata": {
        "id": "gphHk_36loyg"
      },
      "execution_count": null,
      "outputs": []
    },
    {
      "cell_type": "code",
      "source": [
        "#Find the average, median, and max salary by company size using .describe()\n"
      ],
      "metadata": {
        "id": "xiNtbsuQnGfm"
      },
      "execution_count": null,
      "outputs": []
    },
    {
      "cell_type": "markdown",
      "source": [
        "Part 2:  Use the Diamond dataset you stored in Github\n",
        "\n"
      ],
      "metadata": {
        "id": "x1XkUyzU6VVI"
      }
    },
    {
      "cell_type": "code",
      "source": [
        "import pandas as pd\n"
      ],
      "metadata": {
        "id": "Hqt37S3r7-j7"
      },
      "execution_count": null,
      "outputs": []
    },
    {
      "cell_type": "code",
      "source": [
        "#Upload the diamond dataset in Github\n",
        "# paste the url into the ''\n",
        "link2 =''\n",
        "\n",
        "diamond_df = pd.read_csv(link2)\n"
      ],
      "metadata": {
        "id": "3LuxqeFB52DS"
      },
      "execution_count": null,
      "outputs": []
    },
    {
      "cell_type": "code",
      "source": [
        "#View the diamond_df dataset"
      ],
      "metadata": {
        "id": "sodWkbtrqXg2"
      },
      "execution_count": null,
      "outputs": []
    },
    {
      "cell_type": "code",
      "source": [
        "#What is the average price of a diamond\n",
        "\n",
        "\n"
      ],
      "metadata": {
        "id": "kaLq2MpJ8Q68"
      },
      "execution_count": null,
      "outputs": []
    }
  ]
}